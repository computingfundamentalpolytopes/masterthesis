{
 "cells": [
  {
   "cell_type": "markdown",
   "metadata": {},
   "source": [
    "# 4-points metrics"
   ]
  },
  {
   "cell_type": "markdown",
   "metadata": {},
   "source": [
    "### Functions"
   ]
  },
  {
   "cell_type": "code",
   "execution_count": 3,
   "metadata": {},
   "outputs": [],
   "source": [
    "## \"Import\" the main structures needed\n",
    "%run ./final_mainstructures.ipynb\n",
    "\n",
    "\"\"\"Specific functions for the computations for 4-points metrics\"\"\"\n",
    "\n",
    "class MetricOn4Points:\n",
    "    \"\"\"A metric on a 4-points set, defined with a system of splits constructed from the \n",
    "    predefined 6 splits that make the split-decomposition of 4 points metrics unique. \n",
    "    These splits are weighted according to the list of 6 weights provided in constructor.\"\"\"\n",
    "    def __init__(self, weights):\n",
    "        self.X = FiniteSet(Set(['x1', 'x2', 'x3', 'x4']))\n",
    "        self.S = SplitSystem(self.X)\n",
    "        self.S.splits.extend([\n",
    "        Split(self.X, Set(['x1']), weights[0]),\n",
    "        Split(self.X, Set(['x2']), weights[1]),\n",
    "        Split(self.X, Set(['x3']), weights[2]),\n",
    "        Split(self.X, Set(['x4']), weights[3]),\n",
    "        Split(self.X, Set(['x1', 'x2']), weights[4]),\n",
    "        Split(self.X, Set(['x1', 'x3']), weights[5]) ])\n",
    "        # The last possible one, Split(X, Set(['1', '4'])) is excluded in order to have a unique decomposition, \n",
    "        # see Bandelt&Dress p49\n",
    "        self.d = self.S.d_alpha\n",
    "        (self.d12, self.d13, self.d14, self.d23, self.d24, self.d34) = compute_distances_4pts(self.X, self.d)\n",
    "           \n",
    "    def __repr__(self):\n",
    "        write =  \"A metric on 4 points, described by the split system: \\n\"\n",
    "        write +=  str(self.S) + \"\\n\"\n",
    "        return write\n",
    "                 \n",
    "\n",
    "def compute_distances_4pts(X, d):\n",
    "    \"\"\"Compute distances needed for Lipschitz and fundamental polytope calculations\n",
    "    Called in initialiser of the class to avoid computing twice.\"\"\"\n",
    "    points = sorted(X.set)\n",
    "    d12 = d(points[0], points[1])\n",
    "    d13 = d(points[0], points[2])\n",
    "    d14 = d(points[0], points[3])\n",
    "    d23 = d(points[1], points[2])\n",
    "    d24 = d(points[1], points[3])   \n",
    "    d34 = d(points[2], points[3])\n",
    "    return (d12, d13, d14, d23, d24, d34)\n",
    "    \n",
    "\n",
    "def lipschitz_polytope_4pointsset(metric):\n",
    "    \"\"\"Constructs the Lipschitz polytope for 4 points sets metrics.\n",
    "    Provide a MetricOn4Points instance.\"\"\"\n",
    "    equation = [[0,1,1,1,1]]\n",
    "    inequations = ([metric.d12,1,-1,0,0], [metric.d12,-1,1,0,0], [metric.d13,1,0,-1,0], [metric.d13,-1,0,1,0], \n",
    "                   [metric.d14,1,0,0,-1], [metric.d14,-1,0,0,1], [metric.d23,0,1,-1,0], [metric.d23,0,-1,1,0],\n",
    "                   [metric.d24,0,1,0,-1], [metric.d24,0,-1,0,1], [metric.d34,0,0,1,-1], [metric.d34,0,0,-1,1])\n",
    "    return Polyhedron(eqns=equation, ieqs=inequations)\n",
    "    \n",
    "def fundamental_polytope_4pointsset(metric):\n",
    "    \"\"\"Constructs the Fundamental polytope for 4 points sets metrics.\n",
    "    Provide a MetricOn4Points instance.\"\"\"\n",
    "    I = metric.X.Ivectors\n",
    "    points = sorted(metric.X.set)\n",
    "    e12 = (I[points[0]] - I[points[1]]) / metric.d12\n",
    "    e13 = (I[points[0]] - I[points[2]]) / metric.d13\n",
    "    e14 = (I[points[0]] - I[points[3]]) / metric.d14\n",
    "    e23 = (I[points[1]] - I[points[2]]) / metric.d23\n",
    "    e24 = (I[points[1]] - I[points[3]]) / metric.d24\n",
    "    e34 = (I[points[2]] - I[points[3]]) / metric.d34\n",
    "    e21 = -e12\n",
    "    e31 = -e13\n",
    "    e41 = -e14\n",
    "    e32 = -e23\n",
    "    e42 = -e24\n",
    "    e43 = -e34\n",
    "    return Polyhedron(vertices=[e12, e13, e14, e23, e24, e34, e21, e31, e41, e32, e42, e43])\n",
    "\n",
    "\n",
    "# List of all possibilities with 0 or 1 weight, up to symmetry  \n",
    "possibilities = [[1,0,0,0,0,0], [0,0,0,0,1,0], # 1 split                            \n",
    "                 [1,1,0,0,0,0], [1,0,0,0,1,0], [0,0,0,0,1,1], # 2 splits\n",
    "                 [1,1,0,0,1,0], [1,1,1,0,0,0], [1,1,0,0,0,1], [1,0,0,0,1,1], # 3 splits\n",
    "                 [1,1,1,0,1,0], [1,1,0,0,1,1], [1,1,1,1,0,0], [1,0,0,1,1,1], # 4 splits\n",
    "                 [1,1,1,1,1,0], [1,1,1,0,1,1], # 5 splits\n",
    "                 [1,1,1,1,1,1]] # 6 splits"
   ]
  },
  {
   "cell_type": "markdown",
   "metadata": {},
   "source": [
    "### Custom split"
   ]
  },
  {
   "cell_type": "code",
   "execution_count": 4,
   "metadata": {},
   "outputs": [],
   "source": [
    "## User defined custom split system\n",
    "# Choose weights in correct order\n",
    "weights = [1,3,0,2,4,1]\n",
    "\n",
    "#Compute\n",
    "M = MetricOn4Points(weights)\n",
    "rows = [results(M)]\n",
    "filename = \"4pts_weights\" + ''.join(map(str, weights)) + \".txt\"\n",
    "\n",
    "# Write output in file\n",
    "f = open(filename, 'w')\n",
    "T = table(rows, header_row = header, frame = True)\n",
    "f.write(str(T.transpose()))\n",
    "f.close()"
   ]
  },
  {
   "cell_type": "code",
   "execution_count": 6,
   "metadata": {},
   "outputs": [],
   "source": [
    "#TODO_____________________________________________\n",
    "# Rewrite/remind splits into file at the beginning and ask user to specify the weights\n",
    "promt\n",
    "\n",
    "a = list(map(int,raw_input(\"\\nPlease enter the 6 desired weights separated by spaces : \").strip().split()))[:6] "
   ]
  },
  {
   "cell_type": "markdown",
   "metadata": {},
   "source": [
    "### All possibilities"
   ]
  },
  {
   "cell_type": "code",
   "execution_count": 5,
   "metadata": {
    "scrolled": true
   },
   "outputs": [],
   "source": [
    "## ALL POSSIBILITIES FOR 0 AND 1 WEIGHTS\n",
    "\n",
    "# FOR RESULTS DISPLAY\n",
    "rows = []\n",
    "# FOR LATEX TABLES spread on 2 pages\n",
    "rowsleft = []\n",
    "rowsright = []\n",
    "cut = 6\n",
    "\n",
    "## Calculate and store results for the specific split systems we want\n",
    "for p in possibilities:\n",
    "    r = results(MetricOn4Points(p))\n",
    "    rows.append(r)\n",
    "    rowsleft.append(r[:cut])  \n",
    "    rowsright.append(r[cut:])\n",
    "        \n",
    "## Construct tables and files\n",
    "Table = table(rows, header_row = header, frame = True, align = 'right')\n",
    "\n",
    "# Results in txt\n",
    "description = \"Possibilities for splits with weights 0 or 1, eliminating 'symmetrical' cases\\n\"\n",
    "f = open(\"4points_possibilities.txt\", 'w')\n",
    "f.write(description)\n",
    "f.write(str(Table))\n",
    "f.close()\n",
    "\n",
    "# Results in latex\n",
    "flatex = open(\"4points_possibilities_latex.tex\", 'w')\n",
    "flatex.write(str(latex(Table)))\n",
    "flatex.close()\n",
    "\n",
    "# Results in latex for 2 pages\n",
    "TableLeft = table(rowsleft, header_row = header[:cut], frame = True, align = 'right')\n",
    "TableRight = table(rowsright, header_row = header[cut:], frame = True, align = 'right')\n",
    "flr = open(\"4points_possibilities_latex_leftright.tex\", 'w')\n",
    "flr.write(str(latex(TableLeft)) + \"\\n \\n\")\n",
    "flr.write(str(latex(TableRight)))\n",
    "flr.close()"
   ]
  },
  {
   "cell_type": "code",
   "execution_count": 2,
   "metadata": {},
   "outputs": [],
   "source": []
  },
  {
   "cell_type": "markdown",
   "metadata": {},
   "source": [
    "### Test for 2 points metric"
   ]
  },
  {
   "cell_type": "code",
   "execution_count": 4,
   "metadata": {},
   "outputs": [
    {
     "data": {
      "text/plain": [
       "(True,\n",
       " A 1-dimensional polyhedron in QQ^2 defined as the convex hull of 2 vertices,\n",
       " (1, 2, 1),\n",
       " 1,\n",
       " A 1-dimensional polyhedron in QQ^2 defined as the convex hull of 2 vertices,\n",
       " (1, 2, 1),\n",
       " 1,\n",
       " A 1-dimensional polyhedron in QQ^2 defined as the convex hull of 2 vertices,\n",
       " 2*t + 1,\n",
       " 3,\n",
       " (1, 2, 1))"
      ]
     },
     "execution_count": 4,
     "metadata": {},
     "output_type": "execute_result"
    }
   ],
   "source": [
    "def lipschitz_polytope_2pointsset(X, S):\n",
    "    points = sorted(X.set)\n",
    "    d12 = S.d_alpha(points[0], points[1])\n",
    "    return Polyhedron(eqns=[[0,1,1]], ieqs=([d12,1,-1], [d12,-1,1]))\n",
    "\n",
    "X = FiniteSet(Set(['1', '2']))\n",
    "S = SplitSystem(X)\n",
    "S.splits.extend([\n",
    "Split(X, Set(['1']), 1)])\n",
    "\n",
    "Lip = lipschitz_polytope_2pointsset(X,S)\n",
    "fvector_Lip = Lip.f_vector()\n",
    "intpts_Lip = len(Lip.integral_points())\n",
    "\n",
    "\n",
    "### Zonotope from Minkowski sum\n",
    "# and its f-vector, and number of integer points\n",
    "Z = S.zonotope()\n",
    "gen_vec = S.zonotope_generating_vectors()\n",
    "fvector_Z = Z.f_vector()\n",
    "intpts_Z = len(Z.integral_points())\n",
    "# Scale zonotope to make it rational and calculate Ehrhart polynomial and number of integer points\n",
    "Zscaled = X.n * Z\n",
    "gen_vec_scaled = []\n",
    "for vec in gen_vec:\n",
    "    gen_vec_scaled.append(X.n * vec)\n",
    "h(t) = ehrhart_poly(gen_vec_scaled, X)\n",
    "intptsscaled = h(1)\n",
    "\n",
    " # devrait pas etre egal pour certains cas?\n",
    "(Lip == Z, Lip, fvector_Lip, intpts_Lip, Z, fvector_Z, intpts_Z, Zscaled, h(t), intptsscaled, Zscaled.f_vector())"
   ]
  },
  {
   "cell_type": "markdown",
   "metadata": {},
   "source": [
    "### Test for 3 points metric"
   ]
  },
  {
   "cell_type": "code",
   "execution_count": 12,
   "metadata": {},
   "outputs": [
    {
     "data": {
      "text/plain": [
       "A 2-dimensional polyhedron in QQ^3 defined as the convex hull of 4 vertices (use the .plot() method to plot)"
      ]
     },
     "execution_count": 12,
     "metadata": {},
     "output_type": "execute_result"
    }
   ],
   "source": [
    "def lipschitz_polytope_3pointsset(X, S):\n",
    "    points = sorted(X.set)\n",
    "    d12 = S.d_alpha(points[0], points[1])\n",
    "    d13 = S.d_alpha(points[0], points[2])\n",
    "    d23 = S.d_alpha(points[1], points[2])\n",
    "    return Polyhedron(eqns=[[0,1,1,1]], ieqs=([d12,1,-1,0], [d12,-1,1,0], [d13,1,0,-1], [d13,-1,0,1], \n",
    "                                             [d23,0,1,-1], [d23,0,-1,1]))\n",
    "    \n",
    "\n",
    "X = FiniteSet(Set(['1', '2', '3']))\n",
    "S = SplitSystem(X)\n",
    "S.splits.extend([\n",
    "Split(X, Set(['1']), 1),\n",
    "#Split(X, Set(['2']), 1),\n",
    "Split(X, Set(['3']), 1),\n",
    "#Split(X, Set(['1', '2']), 1),\n",
    "#Split(X, Set(['1', '3']), 1)\n",
    "])\n",
    "\n",
    "Lip = lipschitz_polytope_3pointsset(X,S)\n",
    "fvector_Lip = Lip.f_vector()\n",
    "intpts_Lip = len(Lip.integral_points())\n",
    "\n",
    "\n",
    "### Zonotope from Minkowski sum\n",
    "# and its f-vector, and number of integer points\n",
    "Z = S.zonotope()\n",
    "gen_vec = S.zonotope_generating_vectors()\n",
    "fvector_Z = Z.f_vector()\n",
    "intpts_Z = len(Z.integral_points())\n",
    "# Scale zonotope to make it rational and calculate Ehrhart polynomial and number of integer points\n",
    "Zscaled = X.n * Z\n",
    "gen_vec_scaled = []\n",
    "for vec in gen_vec:\n",
    "    gen_vec_scaled.append(X.n * vec)\n",
    "h(t) = ehrhart_poly(gen_vec_scaled, X)\n",
    "intptsscaled = h(1)\n",
    "\n",
    " # devrait pas etre egal pour certains cas?\n",
    "(Lip == Z, Lip, fvector_Lip, intpts_Lip, Z, fvector_Z, intpts_Z, Zscaled, h(t), intptsscaled, Zscaled.f_vector())"
   ]
  },
  {
   "cell_type": "code",
   "execution_count": 65,
   "metadata": {
    "collapsed": true
   },
   "outputs": [
    {
     "ename": "KeyboardInterrupt",
     "evalue": "",
     "output_type": "error",
     "traceback": [
      "\u001b[0;31m---------------------------------------------------------------------------\u001b[0m",
      "\u001b[0;31mKeyboardInterrupt\u001b[0m                         Traceback (most recent call last)",
      "\u001b[0;32m<ipython-input-65-3fdcc97f631f>\u001b[0m in \u001b[0;36m<module>\u001b[0;34m()\u001b[0m\n\u001b[0;32m----> 1\u001b[0;31m \u001b[0ma\u001b[0m \u001b[0;34m=\u001b[0m \u001b[0mlist\u001b[0m\u001b[0;34m(\u001b[0m\u001b[0mmap\u001b[0m\u001b[0;34m(\u001b[0m\u001b[0mint\u001b[0m\u001b[0;34m,\u001b[0m\u001b[0mraw_input\u001b[0m\u001b[0;34m(\u001b[0m\u001b[0;34m\"\\nPlease enter the 6 desired weights separated by spaces : \"\u001b[0m\u001b[0;34m)\u001b[0m\u001b[0;34m.\u001b[0m\u001b[0mstrip\u001b[0m\u001b[0;34m(\u001b[0m\u001b[0;34m)\u001b[0m\u001b[0;34m.\u001b[0m\u001b[0msplit\u001b[0m\u001b[0;34m(\u001b[0m\u001b[0;34m)\u001b[0m\u001b[0;34m)\u001b[0m\u001b[0;34m)\u001b[0m\u001b[0;34m[\u001b[0m\u001b[0;34m:\u001b[0m\u001b[0mInteger\u001b[0m\u001b[0;34m(\u001b[0m\u001b[0;36m6\u001b[0m\u001b[0;34m)\u001b[0m\u001b[0;34m]\u001b[0m\u001b[0;34m\u001b[0m\u001b[0m\n\u001b[0m",
      "\u001b[0;32m/opt/sagemath-8.9/local/lib/python2.7/site-packages/ipykernel/kernelbase.pyc\u001b[0m in \u001b[0;36mraw_input\u001b[0;34m(self, prompt)\u001b[0m\n\u001b[1;32m    702\u001b[0m             \u001b[0mself\u001b[0m\u001b[0;34m.\u001b[0m\u001b[0m_parent_ident\u001b[0m\u001b[0;34m,\u001b[0m\u001b[0;34m\u001b[0m\u001b[0m\n\u001b[1;32m    703\u001b[0m             \u001b[0mself\u001b[0m\u001b[0;34m.\u001b[0m\u001b[0m_parent_header\u001b[0m\u001b[0;34m,\u001b[0m\u001b[0;34m\u001b[0m\u001b[0m\n\u001b[0;32m--> 704\u001b[0;31m             \u001b[0mpassword\u001b[0m\u001b[0;34m=\u001b[0m\u001b[0mFalse\u001b[0m\u001b[0;34m,\u001b[0m\u001b[0;34m\u001b[0m\u001b[0m\n\u001b[0m\u001b[1;32m    705\u001b[0m         )\n\u001b[1;32m    706\u001b[0m \u001b[0;34m\u001b[0m\u001b[0m\n",
      "\u001b[0;32m/opt/sagemath-8.9/local/lib/python2.7/site-packages/ipykernel/kernelbase.pyc\u001b[0m in \u001b[0;36m_input_request\u001b[0;34m(self, prompt, ident, parent, password)\u001b[0m\n\u001b[1;32m    732\u001b[0m             \u001b[0;32mexcept\u001b[0m \u001b[0mKeyboardInterrupt\u001b[0m\u001b[0;34m:\u001b[0m\u001b[0;34m\u001b[0m\u001b[0m\n\u001b[1;32m    733\u001b[0m                 \u001b[0;31m# re-raise KeyboardInterrupt, to truncate traceback\u001b[0m\u001b[0;34m\u001b[0m\u001b[0;34m\u001b[0m\u001b[0m\n\u001b[0;32m--> 734\u001b[0;31m                 \u001b[0;32mraise\u001b[0m \u001b[0mKeyboardInterrupt\u001b[0m\u001b[0;34m\u001b[0m\u001b[0m\n\u001b[0m\u001b[1;32m    735\u001b[0m             \u001b[0;32melse\u001b[0m\u001b[0;34m:\u001b[0m\u001b[0;34m\u001b[0m\u001b[0m\n\u001b[1;32m    736\u001b[0m                 \u001b[0;32mbreak\u001b[0m\u001b[0;34m\u001b[0m\u001b[0m\n",
      "\u001b[0;31mKeyboardInterrupt\u001b[0m: "
     ]
    }
   ],
   "source": [
    "promt\n",
    "\n",
    "a = list(map(int,raw_input(\"\\nPlease enter the 6 desired weights separated by spaces : \").strip().split()))[:6] "
   ]
  },
  {
   "cell_type": "code",
   "execution_count": null,
   "metadata": {},
   "outputs": [],
   "source": [
    "def V_4pointsset(metric):\n",
    "    \"\"\"Constructs V(X, d_alpha) for 4 points sets metrics\"\"\"\n",
    "    equations = [[0,1,1,1,1]]\n",
    "    if metric.d12==0:\n",
    "        equations.append([0,1,-1,0,0])\n",
    "    if metric.d13==0:\n",
    "        equations.append([0,1,0,-1,0])\n",
    "    if metric.d14==0:\n",
    "        equations.append([0,1,0,0,-1])\n",
    "    if metric.d23==0:\n",
    "        equations.append([0,0,1,-1,0])\n",
    "    if metric.d24==0:\n",
    "        equations.append([0,0,1,0,-1])\n",
    "    if metric.d34==0:\n",
    "        equations.append([0,0,0,1,-1])\n",
    "    return Polyhedron(eqns=equations)    "
   ]
  },
  {
   "cell_type": "code",
   "execution_count": null,
   "metadata": {},
   "outputs": [],
   "source": []
  }
 ],
 "metadata": {
  "kernelspec": {
   "display_name": "SageMath 8.9",
   "language": "sage",
   "name": "sagemath"
  },
  "language_info": {
   "codemirror_mode": {
    "name": "ipython",
    "version": 2
   },
   "file_extension": ".py",
   "mimetype": "text/x-python",
   "name": "python",
   "nbconvert_exporter": "python",
   "pygments_lexer": "ipython2",
   "version": "2.7.15"
  }
 },
 "nbformat": 4,
 "nbformat_minor": 2
}
